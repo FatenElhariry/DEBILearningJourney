{
 "cells": [
  {
   "cell_type": "code",
   "execution_count": 31,
   "id": "54f8fe83-be13-4817-bdbc-b805b206d12d",
   "metadata": {},
   "outputs": [],
   "source": [
    "import numpy as np \n",
    "import pandas as pd \n",
    "import matplotlib.pyplot as plt\n",
    "import seaborn as sns \n",
    "from tensorflow.keras.utils import to_categorical\n",
    "from sklearn.preprocessing import LabelEncoder, StandardScaler\n",
    "from sklearn.model_selection import train_test_split\n",
    "from warnings import filterwarnings\n",
    "filterwarnings(\"ignore\")"
   ]
  },
  {
   "cell_type": "code",
   "execution_count": 32,
   "id": "3d2d94d1-89e3-4599-a241-77479193c331",
   "metadata": {},
   "outputs": [],
   "source": [
    "df = pd.read_csv(\"train.csv\")\n",
    "df_orig = df.copy()\n",
    "df_test = pd.read_csv(\"test.csv\")"
   ]
  },
  {
   "cell_type": "code",
   "execution_count": 33,
   "id": "9a9ac859-b350-429e-9f51-71d32e292a7d",
   "metadata": {},
   "outputs": [
    {
     "data": {
      "text/html": [
       "<div>\n",
       "<style scoped>\n",
       "    .dataframe tbody tr th:only-of-type {\n",
       "        vertical-align: middle;\n",
       "    }\n",
       "\n",
       "    .dataframe tbody tr th {\n",
       "        vertical-align: top;\n",
       "    }\n",
       "\n",
       "    .dataframe thead th {\n",
       "        text-align: right;\n",
       "    }\n",
       "</style>\n",
       "<table border=\"1\" class=\"dataframe\">\n",
       "  <thead>\n",
       "    <tr style=\"text-align: right;\">\n",
       "      <th></th>\n",
       "      <th>species</th>\n",
       "    </tr>\n",
       "  </thead>\n",
       "  <tbody>\n",
       "    <tr>\n",
       "      <th>count</th>\n",
       "      <td>990</td>\n",
       "    </tr>\n",
       "    <tr>\n",
       "      <th>unique</th>\n",
       "      <td>99</td>\n",
       "    </tr>\n",
       "    <tr>\n",
       "      <th>top</th>\n",
       "      <td>Acer_Opalus</td>\n",
       "    </tr>\n",
       "    <tr>\n",
       "      <th>freq</th>\n",
       "      <td>10</td>\n",
       "    </tr>\n",
       "  </tbody>\n",
       "</table>\n",
       "</div>"
      ],
      "text/plain": [
       "            species\n",
       "count           990\n",
       "unique           99\n",
       "top     Acer_Opalus\n",
       "freq             10"
      ]
     },
     "execution_count": 33,
     "metadata": {},
     "output_type": "execute_result"
    }
   ],
   "source": [
    "df.select_dtypes([\"object\"]).describe()"
   ]
  },
  {
   "cell_type": "code",
   "execution_count": 34,
   "id": "4a7979d6-45f1-4dbb-b452-16fb70e80478",
   "metadata": {},
   "outputs": [],
   "source": [
    "df = df.drop(columns=[\"id\"])\n",
    "df_test = df_test.drop(columns=[\"id\"])"
   ]
  },
  {
   "cell_type": "code",
   "execution_count": 5,
   "id": "0fa64d46-4f8d-44c4-872a-325e83c3e3bd",
   "metadata": {},
   "outputs": [
    {
     "data": {
      "text/plain": [
       "Acer_Opalus               10\n",
       "Tilia_Tomentosa           10\n",
       "Quercus_Variabilis        10\n",
       "Magnolia_Salicifolia      10\n",
       "Quercus_Canariensis       10\n",
       "                          ..\n",
       "Salix_Intergra            10\n",
       "Quercus_Infectoria_sub    10\n",
       "Quercus_Castaneifolia     10\n",
       "Quercus_x_Turneri         10\n",
       "Sorbus_Aria               10\n",
       "Name: species, Length: 99, dtype: int64"
      ]
     },
     "execution_count": 5,
     "metadata": {},
     "output_type": "execute_result"
    }
   ],
   "source": [
    "df[\"species\"].value_counts().sort_values(ascending=True)"
   ]
  },
  {
   "cell_type": "code",
   "execution_count": 6,
   "id": "fe5bbcf2-aab2-420c-aae1-a05244885765",
   "metadata": {},
   "outputs": [
    {
     "data": {
      "text/plain": [
       "99"
      ]
     },
     "execution_count": 6,
     "metadata": {},
     "output_type": "execute_result"
    }
   ],
   "source": [
    "len(set(df[\"species\"].values))"
   ]
  },
  {
   "cell_type": "code",
   "execution_count": null,
   "id": "3e30f5ba-05d6-4fd6-b511-c476ae453310",
   "metadata": {},
   "outputs": [],
   "source": []
  },
  {
   "cell_type": "code",
   "execution_count": 7,
   "id": "db98df79-9446-4cb3-847e-1f70a688c788",
   "metadata": {},
   "outputs": [],
   "source": [
    "# sns.heatmap(df.corr(), annot = True, square = True, mask = matrix, linewidths = 0.5, annot_kws = {'size': 14})\n",
    "# plt.figure(figsize=(15, 15))\n",
    "# sns.heatmap(df.corr(), annot = True, square = True, linewidths = 0.5, annot_kws = {'size': 14})"
   ]
  },
  {
   "cell_type": "code",
   "execution_count": 8,
   "id": "39641f16-983e-47f8-b89c-b3ac446be8d2",
   "metadata": {},
   "outputs": [],
   "source": [
    "# from patsy import dmatrices\n",
    "\n",
    "# from statsmodels.stats.outliers_influence import variance_inflation_factor\n",
    "\n",
    "# # Regress carat against all other features\n",
    "\n",
    "# y, X = dmatrices('carat ~ cut + color + clarity + x + y + z', df, return_type = 'dataframe')\n",
    "\n",
    "# # For each X, calculate VIF and save in dataframe\n",
    "\n",
    "# VIF = pd.DataFrame()\n",
    "\n",
    "# VIF['Features'] = X.columns\n",
    "\n",
    "# VIF['VIF'] = [variance_inflation_factor(X.values, i) for i in range(X.shape[1])]\n",
    "\n",
    "# print(VIF)\n"
   ]
  },
  {
   "cell_type": "code",
   "execution_count": 9,
   "id": "890bc6a6-d416-4f30-a0d8-d19dfc407bad",
   "metadata": {
    "scrolled": true,
    "tags": []
   },
   "outputs": [
    {
     "name": "stdout",
     "output_type": "stream",
     "text": [
      "<class 'pandas.core.frame.DataFrame'>\n",
      "RangeIndex: 990 entries, 0 to 989\n",
      "Data columns (total 193 columns):\n",
      " #    Column     Dtype  \n",
      "---   ------     -----  \n",
      " 0    species    object \n",
      " 1    margin1    float64\n",
      " 2    margin2    float64\n",
      " 3    margin3    float64\n",
      " 4    margin4    float64\n",
      " 5    margin5    float64\n",
      " 6    margin6    float64\n",
      " 7    margin7    float64\n",
      " 8    margin8    float64\n",
      " 9    margin9    float64\n",
      " 10   margin10   float64\n",
      " 11   margin11   float64\n",
      " 12   margin12   float64\n",
      " 13   margin13   float64\n",
      " 14   margin14   float64\n",
      " 15   margin15   float64\n",
      " 16   margin16   float64\n",
      " 17   margin17   float64\n",
      " 18   margin18   float64\n",
      " 19   margin19   float64\n",
      " 20   margin20   float64\n",
      " 21   margin21   float64\n",
      " 22   margin22   float64\n",
      " 23   margin23   float64\n",
      " 24   margin24   float64\n",
      " 25   margin25   float64\n",
      " 26   margin26   float64\n",
      " 27   margin27   float64\n",
      " 28   margin28   float64\n",
      " 29   margin29   float64\n",
      " 30   margin30   float64\n",
      " 31   margin31   float64\n",
      " 32   margin32   float64\n",
      " 33   margin33   float64\n",
      " 34   margin34   float64\n",
      " 35   margin35   float64\n",
      " 36   margin36   float64\n",
      " 37   margin37   float64\n",
      " 38   margin38   float64\n",
      " 39   margin39   float64\n",
      " 40   margin40   float64\n",
      " 41   margin41   float64\n",
      " 42   margin42   float64\n",
      " 43   margin43   float64\n",
      " 44   margin44   float64\n",
      " 45   margin45   float64\n",
      " 46   margin46   float64\n",
      " 47   margin47   float64\n",
      " 48   margin48   float64\n",
      " 49   margin49   float64\n",
      " 50   margin50   float64\n",
      " 51   margin51   float64\n",
      " 52   margin52   float64\n",
      " 53   margin53   float64\n",
      " 54   margin54   float64\n",
      " 55   margin55   float64\n",
      " 56   margin56   float64\n",
      " 57   margin57   float64\n",
      " 58   margin58   float64\n",
      " 59   margin59   float64\n",
      " 60   margin60   float64\n",
      " 61   margin61   float64\n",
      " 62   margin62   float64\n",
      " 63   margin63   float64\n",
      " 64   margin64   float64\n",
      " 65   shape1     float64\n",
      " 66   shape2     float64\n",
      " 67   shape3     float64\n",
      " 68   shape4     float64\n",
      " 69   shape5     float64\n",
      " 70   shape6     float64\n",
      " 71   shape7     float64\n",
      " 72   shape8     float64\n",
      " 73   shape9     float64\n",
      " 74   shape10    float64\n",
      " 75   shape11    float64\n",
      " 76   shape12    float64\n",
      " 77   shape13    float64\n",
      " 78   shape14    float64\n",
      " 79   shape15    float64\n",
      " 80   shape16    float64\n",
      " 81   shape17    float64\n",
      " 82   shape18    float64\n",
      " 83   shape19    float64\n",
      " 84   shape20    float64\n",
      " 85   shape21    float64\n",
      " 86   shape22    float64\n",
      " 87   shape23    float64\n",
      " 88   shape24    float64\n",
      " 89   shape25    float64\n",
      " 90   shape26    float64\n",
      " 91   shape27    float64\n",
      " 92   shape28    float64\n",
      " 93   shape29    float64\n",
      " 94   shape30    float64\n",
      " 95   shape31    float64\n",
      " 96   shape32    float64\n",
      " 97   shape33    float64\n",
      " 98   shape34    float64\n",
      " 99   shape35    float64\n",
      " 100  shape36    float64\n",
      " 101  shape37    float64\n",
      " 102  shape38    float64\n",
      " 103  shape39    float64\n",
      " 104  shape40    float64\n",
      " 105  shape41    float64\n",
      " 106  shape42    float64\n",
      " 107  shape43    float64\n",
      " 108  shape44    float64\n",
      " 109  shape45    float64\n",
      " 110  shape46    float64\n",
      " 111  shape47    float64\n",
      " 112  shape48    float64\n",
      " 113  shape49    float64\n",
      " 114  shape50    float64\n",
      " 115  shape51    float64\n",
      " 116  shape52    float64\n",
      " 117  shape53    float64\n",
      " 118  shape54    float64\n",
      " 119  shape55    float64\n",
      " 120  shape56    float64\n",
      " 121  shape57    float64\n",
      " 122  shape58    float64\n",
      " 123  shape59    float64\n",
      " 124  shape60    float64\n",
      " 125  shape61    float64\n",
      " 126  shape62    float64\n",
      " 127  shape63    float64\n",
      " 128  shape64    float64\n",
      " 129  texture1   float64\n",
      " 130  texture2   float64\n",
      " 131  texture3   float64\n",
      " 132  texture4   float64\n",
      " 133  texture5   float64\n",
      " 134  texture6   float64\n",
      " 135  texture7   float64\n",
      " 136  texture8   float64\n",
      " 137  texture9   float64\n",
      " 138  texture10  float64\n",
      " 139  texture11  float64\n",
      " 140  texture12  float64\n",
      " 141  texture13  float64\n",
      " 142  texture14  float64\n",
      " 143  texture15  float64\n",
      " 144  texture16  float64\n",
      " 145  texture17  float64\n",
      " 146  texture18  float64\n",
      " 147  texture19  float64\n",
      " 148  texture20  float64\n",
      " 149  texture21  float64\n",
      " 150  texture22  float64\n",
      " 151  texture23  float64\n",
      " 152  texture24  float64\n",
      " 153  texture25  float64\n",
      " 154  texture26  float64\n",
      " 155  texture27  float64\n",
      " 156  texture28  float64\n",
      " 157  texture29  float64\n",
      " 158  texture30  float64\n",
      " 159  texture31  float64\n",
      " 160  texture32  float64\n",
      " 161  texture33  float64\n",
      " 162  texture34  float64\n",
      " 163  texture35  float64\n",
      " 164  texture36  float64\n",
      " 165  texture37  float64\n",
      " 166  texture38  float64\n",
      " 167  texture39  float64\n",
      " 168  texture40  float64\n",
      " 169  texture41  float64\n",
      " 170  texture42  float64\n",
      " 171  texture43  float64\n",
      " 172  texture44  float64\n",
      " 173  texture45  float64\n",
      " 174  texture46  float64\n",
      " 175  texture47  float64\n",
      " 176  texture48  float64\n",
      " 177  texture49  float64\n",
      " 178  texture50  float64\n",
      " 179  texture51  float64\n",
      " 180  texture52  float64\n",
      " 181  texture53  float64\n",
      " 182  texture54  float64\n",
      " 183  texture55  float64\n",
      " 184  texture56  float64\n",
      " 185  texture57  float64\n",
      " 186  texture58  float64\n",
      " 187  texture59  float64\n",
      " 188  texture60  float64\n",
      " 189  texture61  float64\n",
      " 190  texture62  float64\n",
      " 191  texture63  float64\n",
      " 192  texture64  float64\n",
      "dtypes: float64(192), object(1)\n",
      "memory usage: 1.5+ MB\n"
     ]
    }
   ],
   "source": [
    "df.info(verbose=1)"
   ]
  },
  {
   "cell_type": "code",
   "execution_count": 10,
   "id": "03333df9-1a83-4627-9873-1b59ecd5f129",
   "metadata": {},
   "outputs": [
    {
     "data": {
      "text/plain": [
       "species      0\n",
       "shape58      0\n",
       "shape59      0\n",
       "shape60      0\n",
       "shape61      0\n",
       "            ..\n",
       "shape3       0\n",
       "shape4       0\n",
       "shape5       0\n",
       "shape31      0\n",
       "texture64    0\n",
       "Length: 193, dtype: int64"
      ]
     },
     "execution_count": 10,
     "metadata": {},
     "output_type": "execute_result"
    }
   ],
   "source": [
    "df.isna().sum().sort_values(ascending=True)"
   ]
  },
  {
   "cell_type": "code",
   "execution_count": 11,
   "id": "f722fa4a-34d3-4e1e-8dbd-e74ef4a5719b",
   "metadata": {},
   "outputs": [],
   "source": [
    "import keras\n",
    "from tensorflow.keras.layers import Dense\n",
    "from tensorflow.keras.models import Sequential"
   ]
  },
  {
   "cell_type": "code",
   "execution_count": 12,
   "id": "074d718c-8d5e-4b24-81c7-25f8e77f6e8d",
   "metadata": {},
   "outputs": [],
   "source": [
    "X =  df.drop(columns=[\"species\"])\n",
    "encoder = LabelEncoder()\n",
    "y = encoder.fit_transform(df[\"species\"])"
   ]
  },
  {
   "cell_type": "code",
   "execution_count": 13,
   "id": "855297ab-d3d5-4cb4-bf16-e841b3d1ab15",
   "metadata": {},
   "outputs": [],
   "source": [
    "y = to_categorical(y)"
   ]
  },
  {
   "cell_type": "code",
   "execution_count": 14,
   "id": "aa3c9f81-68cd-4223-9a23-7a6c4ef67f6c",
   "metadata": {},
   "outputs": [],
   "source": [
    "scaler = StandardScaler()\n",
    "X_scaled = scaler.fit_transform(X)"
   ]
  },
  {
   "cell_type": "code",
   "execution_count": 15,
   "id": "697e9df1-d7e3-4f47-9c07-30e359afc81c",
   "metadata": {},
   "outputs": [],
   "source": [
    "X_train, X_test, y_train, y_test = train_test_split(X_scaled, y, test_size=0.2, random_state=0)"
   ]
  },
  {
   "cell_type": "code",
   "execution_count": 16,
   "id": "97f54e3f-33cb-41c6-9387-eb95907c6bfd",
   "metadata": {},
   "outputs": [],
   "source": [
    "model = Sequential()\n",
    "model.add(Dense(1024, activation= \"relu\",input_shape=(X_train.shape[1],)))\n",
    "model.add(Dense(512, activation= \"relu\"))\n",
    "model.add(Dense(64, activation= \"relu\"))\n",
    "model.add(Dense(32, activation= \"relu\"))\n",
    "model.add(Dense(y_train.shape[1], activation= \"softmax\"))"
   ]
  },
  {
   "cell_type": "code",
   "execution_count": 17,
   "id": "03fc8921-f6b6-4349-ae0a-2798b628e99f",
   "metadata": {},
   "outputs": [
    {
     "name": "stdout",
     "output_type": "stream",
     "text": [
      "Model: \"sequential\"\n",
      "_________________________________________________________________\n",
      " Layer (type)                Output Shape              Param #   \n",
      "=================================================================\n",
      " dense (Dense)               (None, 1024)              197632    \n",
      "                                                                 \n",
      " dense_1 (Dense)             (None, 512)               524800    \n",
      "                                                                 \n",
      " dense_2 (Dense)             (None, 64)                32832     \n",
      "                                                                 \n",
      " dense_3 (Dense)             (None, 32)                2080      \n",
      "                                                                 \n",
      " dense_4 (Dense)             (None, 99)                3267      \n",
      "                                                                 \n",
      "=================================================================\n",
      "Total params: 760,611\n",
      "Trainable params: 760,611\n",
      "Non-trainable params: 0\n",
      "_________________________________________________________________\n"
     ]
    }
   ],
   "source": [
    "model.summary()"
   ]
  },
  {
   "cell_type": "code",
   "execution_count": 18,
   "id": "6dc68226-0d2f-43c4-96f5-cf2b744a0984",
   "metadata": {},
   "outputs": [],
   "source": [
    "model.compile(optimizer='adam', loss='categorical_crossentropy', metrics=['accuracy'])"
   ]
  },
  {
   "cell_type": "code",
   "execution_count": 19,
   "id": "6679bdb6-0d67-4543-a87c-d74e746684a4",
   "metadata": {},
   "outputs": [
    {
     "data": {
      "text/plain": [
       "(990, 192)"
      ]
     },
     "execution_count": 19,
     "metadata": {},
     "output_type": "execute_result"
    }
   ],
   "source": [
    "X.shape"
   ]
  },
  {
   "cell_type": "code",
   "execution_count": 20,
   "id": "41853e54-e629-4e7d-a446-96987054403d",
   "metadata": {},
   "outputs": [
    {
     "data": {
      "text/plain": [
       "<keras.callbacks.History at 0x24a0d3f2250>"
      ]
     },
     "execution_count": 20,
     "metadata": {},
     "output_type": "execute_result"
    }
   ],
   "source": [
    "model.fit(X_train, y_train,  epochs=100, batch_size= 99, verbose=0)"
   ]
  },
  {
   "cell_type": "code",
   "execution_count": 21,
   "id": "aff2e0ce-14b0-42a9-943e-447a68eac4c0",
   "metadata": {},
   "outputs": [
    {
     "data": {
      "text/plain": [
       "<AxesSubplot:>"
      ]
     },
     "execution_count": 21,
     "metadata": {},
     "output_type": "execute_result"
    },
    {
     "data": {
      "image/png": "[encoded data removed]",
      "text/plain": [
       "<Figure size 432x288 with 1 Axes>"
      ]
     },
     "metadata": {
      "needs_background": "light"
     },
     "output_type": "display_data"
    }
   ],
   "source": [
    "pd.DataFrame(model.history.history).plot()"
   ]
  },
  {
   "cell_type": "code",
   "execution_count": 22,
   "id": "f78d4299-4cb8-4bc8-9205-572cc8c6c1d2",
   "metadata": {},
   "outputs": [],
   "source": [
    "df = df.drop(columns=[\"shape10\"])"
   ]
  },
  {
   "cell_type": "code",
   "execution_count": 35,
   "id": "983ac8cc-09f8-4b73-b9f0-4ebecc18c759",
   "metadata": {},
   "outputs": [],
   "source": [
    "df_corr = df.corr()\n",
    "high_corr = df_corr[(df_corr > .99) & ~(df_corr == 1)]"
   ]
  },
  {
   "cell_type": "code",
   "execution_count": 36,
   "id": "923ba448-c445-44c0-b318-1fff297d6e2b",
   "metadata": {},
   "outputs": [],
   "source": [
    "# df_corr"
   ]
  },
  {
   "cell_type": "code",
   "execution_count": 37,
   "id": "321fb6b5-7c44-4705-b0d6-dd9723ec18ed",
   "metadata": {},
   "outputs": [
    {
     "data": {
      "text/plain": [
       "Index(['margin1', 'margin2', 'margin3', 'margin4', 'margin5', 'margin6',\n",
       "       'margin7', 'margin8', 'margin9', 'margin10',\n",
       "       ...\n",
       "       'texture55', 'texture56', 'texture57', 'texture58', 'texture59',\n",
       "       'texture60', 'texture61', 'texture62', 'texture63', 'texture64'],\n",
       "      dtype='object', length=192)"
      ]
     },
     "execution_count": 37,
     "metadata": {},
     "output_type": "execute_result"
    }
   ],
   "source": [
    "high_corr.columns"
   ]
  },
  {
   "cell_type": "code",
   "execution_count": 38,
   "id": "25600fe1-878b-4c97-aa6a-96bd3577cee9",
   "metadata": {},
   "outputs": [],
   "source": [
    "# df = df.drop(columns= [\"shape10\"])"
   ]
  },
  {
   "cell_type": "code",
   "execution_count": null,
   "id": "dc8d20eb-2238-448d-b230-db5116e9cd68",
   "metadata": {},
   "outputs": [],
   "source": []
  },
  {
   "cell_type": "code",
   "execution_count": 40,
   "id": "ab6d13fa-a479-4067-9ff6-61ab2fe6e737",
   "metadata": {},
   "outputs": [
    {
     "data": {
      "text/plain": [
       "{'shape9': ['shape10'],\n",
       " 'shape10': ['shape9', 'shape11'],\n",
       " 'shape11': ['shape10', 'shape12'],\n",
       " 'shape12': ['shape11', 'shape13'],\n",
       " 'shape13': ['shape12', 'shape14'],\n",
       " 'shape14': ['shape13', 'shape15'],\n",
       " 'shape15': ['shape14', 'shape16'],\n",
       " 'shape16': ['shape15', 'shape17'],\n",
       " 'shape17': ['shape16', 'shape18'],\n",
       " 'shape18': ['shape17', 'shape19'],\n",
       " 'shape19': ['shape18', 'shape20'],\n",
       " 'shape20': ['shape19', 'shape21'],\n",
       " 'shape21': ['shape20', 'shape22'],\n",
       " 'shape22': ['shape21', 'shape23'],\n",
       " 'shape23': ['shape22'],\n",
       " 'shape42': ['shape43'],\n",
       " 'shape43': ['shape42', 'shape44'],\n",
       " 'shape44': ['shape43', 'shape45'],\n",
       " 'shape45': ['shape44', 'shape46'],\n",
       " 'shape46': ['shape45', 'shape47'],\n",
       " 'shape47': ['shape46', 'shape48'],\n",
       " 'shape48': ['shape47', 'shape49'],\n",
       " 'shape49': ['shape48', 'shape50'],\n",
       " 'shape50': ['shape49', 'shape51'],\n",
       " 'shape51': ['shape50', 'shape52'],\n",
       " 'shape52': ['shape51', 'shape53'],\n",
       " 'shape53': ['shape52', 'shape54'],\n",
       " 'shape54': ['shape53']}"
      ]
     },
     "execution_count": 40,
     "metadata": {},
     "output_type": "execute_result"
    }
   ],
   "source": [
    "feature_corr"
   ]
  },
  {
   "cell_type": "code",
   "execution_count": 39,
   "id": "6d6789c7-267a-47f8-8377-895028f40eb9",
   "metadata": {},
   "outputs": [],
   "source": [
    "feature_corr = {}\n",
    "for col in high_corr.columns:\n",
    "    col_high_corr = high_corr[col][high_corr[col] > 0]\n",
    "    for index in col_high_corr.index:\n",
    "        feature_corr.update({col: feature_corr.get(col, []) + [index]})\n",
    "        # plt.figure()\n",
    "        # sns.scatterplot(x= index, y= col, data= df)\n",
    "        # plt.xlabel(index)\n",
    "        # plt.ylabel(col)\n",
    "        # plt.title(f\"corr between {col} & {index} = {col_high_corr[index]}\")"
   ]
  },
  {
   "cell_type": "code",
   "execution_count": null,
   "id": "a674aa1a-6a55-4a81-8488-5ad1d2a95c3a",
   "metadata": {},
   "outputs": [],
   "source": [
    "df = df.drop(columns=[\"shape1\", \"shape9\"])"
   ]
  },
  {
   "cell_type": "code",
   "execution_count": null,
   "id": "d3487b76-09b4-46d2-9e02-863df41f4897",
   "metadata": {},
   "outputs": [],
   "source": []
  }
 ],
 "metadata": {
  "kernelspec": {
   "display_name": "Python 3 (ipykernel)",
   "language": "python",
   "name": "python3"
  },
  "language_info": {
   "codemirror_mode": {
    "name": "ipython",
    "version": 3
   },
   "file_extension": ".py",
   "mimetype": "text/x-python",
   "name": "python",
   "nbconvert_exporter": "python",
   "pygments_lexer": "ipython3",
   "version": "3.9.7"
  }
 },
 "nbformat": 4,
 "nbformat_minor": 5
}
