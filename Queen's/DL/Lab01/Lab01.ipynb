{
 "cells": [
  {
   "cell_type": "code",
   "execution_count": 1,
   "id": "260777f7-cf6f-41a8-955d-3e156fb45e27",
   "metadata": {},
   "outputs": [],
   "source": [
    "import tensorflow as tf\n",
    "from sklearn import datasets\n",
    "from sklearn.model_selection import train_test_split\n",
    "from tensorflow.keras import Sequential\n",
    "from tensorflow.keras.layers import Dense\n",
    "from tensorflow.keras.utils import to_categorical"
   ]
  },
  {
   "cell_type": "code",
   "execution_count": 2,
   "id": "dd83efce-c81c-41bc-bf1c-13c774d443c5",
   "metadata": {},
   "outputs": [],
   "source": [
    "iris = datasets.load_iris()"
   ]
  },
  {
   "cell_type": "code",
   "execution_count": 3,
   "id": "0de17b3a-a122-4782-9fc7-2f6e6a371bdf",
   "metadata": {},
   "outputs": [],
   "source": [
    "X , y = iris.data, iris.target"
   ]
  },
  {
   "cell_type": "code",
   "execution_count": 4,
   "id": "c2d67f90-1538-4eec-8a41-1e9f81a8167a",
   "metadata": {},
   "outputs": [],
   "source": [
    "X_train, X_test, y_train, y_test = train_test_split(X, y, test_size=.3, random_state=0)"
   ]
  },
  {
   "cell_type": "code",
   "execution_count": 9,
   "id": "e8e778c9-5dab-4e34-bd50-05b4190d6b9b",
   "metadata": {},
   "outputs": [
    {
     "data": {
      "text/plain": [
       "(105, 4)"
      ]
     },
     "execution_count": 9,
     "metadata": {},
     "output_type": "execute_result"
    }
   ],
   "source": [
    "n_features = X.shape[1]\n",
    "X_train.shape"
   ]
  },
  {
   "cell_type": "code",
   "execution_count": 6,
   "id": "72c8518f-b61f-4d54-b629-d8b9a15e01d8",
   "metadata": {},
   "outputs": [],
   "source": [
    "model = Sequential()\n",
    "model.add(Dense(512, activation='relu', input_shape=(4,)))\n",
    "model.add(Dense(3, activation='softmax'))"
   ]
  },
  {
   "cell_type": "code",
   "execution_count": 7,
   "id": "66a4c445-3e88-4f89-ad9f-1eaec57ab837",
   "metadata": {},
   "outputs": [
    {
     "name": "stdout",
     "output_type": "stream",
     "text": [
      "Model: \"sequential\"\n",
      "_________________________________________________________________\n",
      " Layer (type)                Output Shape              Param #   \n",
      "=================================================================\n",
      " dense (Dense)               (None, 512)               2560      \n",
      "                                                                 \n",
      " dense_1 (Dense)             (None, 3)                 1539      \n",
      "                                                                 \n",
      "=================================================================\n",
      "Total params: 4,099\n",
      "Trainable params: 4,099\n",
      "Non-trainable params: 0\n",
      "_________________________________________________________________\n"
     ]
    }
   ],
   "source": [
    "model.summary()"
   ]
  },
  {
   "cell_type": "code",
   "execution_count": 167,
   "id": "659692f1-2709-4cb3-aef5-8d93864bc5d0",
   "metadata": {},
   "outputs": [],
   "source": [
    "model.compile(optimizer='rmsprop', loss='categorical_crossentropy', metrics=['accuracy'])"
   ]
  },
  {
   "cell_type": "code",
   "execution_count": 168,
   "id": "19b84c45-e7e0-4af4-a36c-7f889677110d",
   "metadata": {
    "scrolled": true,
    "tags": []
   },
   "outputs": [
    {
     "name": "stdout",
     "output_type": "stream",
     "text": [
      "Epoch 1/20\n",
      "3/3 [==============================] - 0s 1ms/step - loss: 0.9463 - accuracy: 0.5714\n",
      "Epoch 2/20\n",
      "3/3 [==============================] - 0s 1ms/step - loss: 0.7696 - accuracy: 0.7048\n",
      "Epoch 3/20\n",
      "3/3 [==============================] - 0s 1ms/step - loss: 0.6853 - accuracy: 0.7333\n",
      "Epoch 4/20\n",
      "3/3 [==============================] - 0s 1ms/step - loss: 0.6242 - accuracy: 0.7238\n",
      "Epoch 5/20\n",
      "3/3 [==============================] - 0s 2ms/step - loss: 0.5781 - accuracy: 0.7619\n",
      "Epoch 6/20\n",
      "3/3 [==============================] - 0s 997us/step - loss: 0.5602 - accuracy: 0.7714\n",
      "Epoch 7/20\n",
      "3/3 [==============================] - 0s 2ms/step - loss: 0.5244 - accuracy: 0.7810\n",
      "Epoch 8/20\n",
      "3/3 [==============================] - 0s 2ms/step - loss: 0.5104 - accuracy: 0.8000\n",
      "Epoch 9/20\n",
      "3/3 [==============================] - 0s 1ms/step - loss: 0.4769 - accuracy: 0.7714\n",
      "Epoch 10/20\n",
      "3/3 [==============================] - 0s 1000us/step - loss: 0.4768 - accuracy: 0.8095\n",
      "Epoch 11/20\n",
      "3/3 [==============================] - 0s 1ms/step - loss: 0.4600 - accuracy: 0.7810\n",
      "Epoch 12/20\n",
      "3/3 [==============================] - 0s 2ms/step - loss: 0.4293 - accuracy: 0.8571\n",
      "Epoch 13/20\n",
      "3/3 [==============================] - 0s 1000us/step - loss: 0.4203 - accuracy: 0.8952\n",
      "Epoch 14/20\n",
      "3/3 [==============================] - 0s 1ms/step - loss: 0.4089 - accuracy: 0.8286\n",
      "Epoch 15/20\n",
      "3/3 [==============================] - 0s 1ms/step - loss: 0.3978 - accuracy: 0.8952\n",
      "Epoch 16/20\n",
      "3/3 [==============================] - 0s 1ms/step - loss: 0.3822 - accuracy: 0.8571\n",
      "Epoch 17/20\n",
      "3/3 [==============================] - 0s 2ms/step - loss: 0.4073 - accuracy: 0.8476\n",
      "Epoch 18/20\n",
      "3/3 [==============================] - 0s 998us/step - loss: 0.3572 - accuracy: 0.8762\n",
      "Epoch 19/20\n",
      "3/3 [==============================] - 0s 1000us/step - loss: 0.3484 - accuracy: 0.9333\n",
      "Epoch 20/20\n",
      "3/3 [==============================] - 0s 1ms/step - loss: 0.3388 - accuracy: 0.9238\n"
     ]
    },
    {
     "data": {
      "text/plain": [
       "<keras.callbacks.History at 0x1fb12fde880>"
      ]
     },
     "execution_count": 168,
     "metadata": {},
     "output_type": "execute_result"
    }
   ],
   "source": [
    "model.fit(X_train, to_categorical(y_train),  epochs=20, batch_size=40)"
   ]
  },
  {
   "cell_type": "code",
   "execution_count": 169,
   "id": "cf589307-8e39-493f-ab24-39e0da952ac2",
   "metadata": {},
   "outputs": [
    {
     "name": "stdout",
     "output_type": "stream",
     "text": [
      "2/2 [==============================] - 0s 2ms/step - loss: 0.3378 - accuracy: 0.9778\n",
      "Test Accuracy: 0.978\n"
     ]
    }
   ],
   "source": [
    "loss, acc = model.evaluate(X_test, to_categorical(y_test))\n",
    "print('Test Accuracy: %.3f' % acc)"
   ]
  },
  {
   "cell_type": "code",
   "execution_count": 170,
   "id": "66f4460d-d311-436e-9885-b3daa0c19ae2",
   "metadata": {},
   "outputs": [],
   "source": [
    "import pandas as pd "
   ]
  },
  {
   "cell_type": "code",
   "execution_count": 173,
   "id": "f1e1c36d-8bb2-4ddf-88ac-6f7e2a7edea1",
   "metadata": {},
   "outputs": [],
   "source": [
    "df = pd.read_csv(\"housing.csv\", header=None)"
   ]
  },
  {
   "cell_type": "code",
   "execution_count": 189,
   "id": "84d685e4-527c-4574-b2e1-ebb59cf5a508",
   "metadata": {},
   "outputs": [
    {
     "data": {
      "text/html": [
       "<div>\n",
       "<style scoped>\n",
       "    .dataframe tbody tr th:only-of-type {\n",
       "        vertical-align: middle;\n",
       "    }\n",
       "\n",
       "    .dataframe tbody tr th {\n",
       "        vertical-align: top;\n",
       "    }\n",
       "\n",
       "    .dataframe thead th {\n",
       "        text-align: right;\n",
       "    }\n",
       "</style>\n",
       "<table border=\"1\" class=\"dataframe\">\n",
       "  <thead>\n",
       "    <tr style=\"text-align: right;\">\n",
       "      <th></th>\n",
       "      <th>0</th>\n",
       "      <th>1</th>\n",
       "      <th>2</th>\n",
       "      <th>3</th>\n",
       "      <th>4</th>\n",
       "      <th>5</th>\n",
       "      <th>6</th>\n",
       "      <th>7</th>\n",
       "      <th>8</th>\n",
       "      <th>9</th>\n",
       "      <th>10</th>\n",
       "      <th>11</th>\n",
       "      <th>12</th>\n",
       "    </tr>\n",
       "  </thead>\n",
       "  <tbody>\n",
       "    <tr>\n",
       "      <th>0</th>\n",
       "      <td>0.00632</td>\n",
       "      <td>18.0</td>\n",
       "      <td>2.31</td>\n",
       "      <td>0</td>\n",
       "      <td>0.538</td>\n",
       "      <td>6.575</td>\n",
       "      <td>65.2</td>\n",
       "      <td>4.0900</td>\n",
       "      <td>1</td>\n",
       "      <td>296.0</td>\n",
       "      <td>15.3</td>\n",
       "      <td>396.90</td>\n",
       "      <td>4.98</td>\n",
       "    </tr>\n",
       "    <tr>\n",
       "      <th>1</th>\n",
       "      <td>0.02731</td>\n",
       "      <td>0.0</td>\n",
       "      <td>7.07</td>\n",
       "      <td>0</td>\n",
       "      <td>0.469</td>\n",
       "      <td>6.421</td>\n",
       "      <td>78.9</td>\n",
       "      <td>4.9671</td>\n",
       "      <td>2</td>\n",
       "      <td>242.0</td>\n",
       "      <td>17.8</td>\n",
       "      <td>396.90</td>\n",
       "      <td>9.14</td>\n",
       "    </tr>\n",
       "    <tr>\n",
       "      <th>2</th>\n",
       "      <td>0.02729</td>\n",
       "      <td>0.0</td>\n",
       "      <td>7.07</td>\n",
       "      <td>0</td>\n",
       "      <td>0.469</td>\n",
       "      <td>7.185</td>\n",
       "      <td>61.1</td>\n",
       "      <td>4.9671</td>\n",
       "      <td>2</td>\n",
       "      <td>242.0</td>\n",
       "      <td>17.8</td>\n",
       "      <td>392.83</td>\n",
       "      <td>4.03</td>\n",
       "    </tr>\n",
       "    <tr>\n",
       "      <th>3</th>\n",
       "      <td>0.03237</td>\n",
       "      <td>0.0</td>\n",
       "      <td>2.18</td>\n",
       "      <td>0</td>\n",
       "      <td>0.458</td>\n",
       "      <td>6.998</td>\n",
       "      <td>45.8</td>\n",
       "      <td>6.0622</td>\n",
       "      <td>3</td>\n",
       "      <td>222.0</td>\n",
       "      <td>18.7</td>\n",
       "      <td>394.63</td>\n",
       "      <td>2.94</td>\n",
       "    </tr>\n",
       "    <tr>\n",
       "      <th>4</th>\n",
       "      <td>0.06905</td>\n",
       "      <td>0.0</td>\n",
       "      <td>2.18</td>\n",
       "      <td>0</td>\n",
       "      <td>0.458</td>\n",
       "      <td>7.147</td>\n",
       "      <td>54.2</td>\n",
       "      <td>6.0622</td>\n",
       "      <td>3</td>\n",
       "      <td>222.0</td>\n",
       "      <td>18.7</td>\n",
       "      <td>396.90</td>\n",
       "      <td>5.33</td>\n",
       "    </tr>\n",
       "    <tr>\n",
       "      <th>...</th>\n",
       "      <td>...</td>\n",
       "      <td>...</td>\n",
       "      <td>...</td>\n",
       "      <td>...</td>\n",
       "      <td>...</td>\n",
       "      <td>...</td>\n",
       "      <td>...</td>\n",
       "      <td>...</td>\n",
       "      <td>...</td>\n",
       "      <td>...</td>\n",
       "      <td>...</td>\n",
       "      <td>...</td>\n",
       "      <td>...</td>\n",
       "    </tr>\n",
       "    <tr>\n",
       "      <th>501</th>\n",
       "      <td>0.06263</td>\n",
       "      <td>0.0</td>\n",
       "      <td>11.93</td>\n",
       "      <td>0</td>\n",
       "      <td>0.573</td>\n",
       "      <td>6.593</td>\n",
       "      <td>69.1</td>\n",
       "      <td>2.4786</td>\n",
       "      <td>1</td>\n",
       "      <td>273.0</td>\n",
       "      <td>21.0</td>\n",
       "      <td>391.99</td>\n",
       "      <td>9.67</td>\n",
       "    </tr>\n",
       "    <tr>\n",
       "      <th>502</th>\n",
       "      <td>0.04527</td>\n",
       "      <td>0.0</td>\n",
       "      <td>11.93</td>\n",
       "      <td>0</td>\n",
       "      <td>0.573</td>\n",
       "      <td>6.120</td>\n",
       "      <td>76.7</td>\n",
       "      <td>2.2875</td>\n",
       "      <td>1</td>\n",
       "      <td>273.0</td>\n",
       "      <td>21.0</td>\n",
       "      <td>396.90</td>\n",
       "      <td>9.08</td>\n",
       "    </tr>\n",
       "    <tr>\n",
       "      <th>503</th>\n",
       "      <td>0.06076</td>\n",
       "      <td>0.0</td>\n",
       "      <td>11.93</td>\n",
       "      <td>0</td>\n",
       "      <td>0.573</td>\n",
       "      <td>6.976</td>\n",
       "      <td>91.0</td>\n",
       "      <td>2.1675</td>\n",
       "      <td>1</td>\n",
       "      <td>273.0</td>\n",
       "      <td>21.0</td>\n",
       "      <td>396.90</td>\n",
       "      <td>5.64</td>\n",
       "    </tr>\n",
       "    <tr>\n",
       "      <th>504</th>\n",
       "      <td>0.10959</td>\n",
       "      <td>0.0</td>\n",
       "      <td>11.93</td>\n",
       "      <td>0</td>\n",
       "      <td>0.573</td>\n",
       "      <td>6.794</td>\n",
       "      <td>89.3</td>\n",
       "      <td>2.3889</td>\n",
       "      <td>1</td>\n",
       "      <td>273.0</td>\n",
       "      <td>21.0</td>\n",
       "      <td>393.45</td>\n",
       "      <td>6.48</td>\n",
       "    </tr>\n",
       "    <tr>\n",
       "      <th>505</th>\n",
       "      <td>0.04741</td>\n",
       "      <td>0.0</td>\n",
       "      <td>11.93</td>\n",
       "      <td>0</td>\n",
       "      <td>0.573</td>\n",
       "      <td>6.030</td>\n",
       "      <td>80.8</td>\n",
       "      <td>2.5050</td>\n",
       "      <td>1</td>\n",
       "      <td>273.0</td>\n",
       "      <td>21.0</td>\n",
       "      <td>396.90</td>\n",
       "      <td>7.88</td>\n",
       "    </tr>\n",
       "  </tbody>\n",
       "</table>\n",
       "<p>506 rows × 13 columns</p>\n",
       "</div>"
      ],
      "text/plain": [
       "          0     1      2   3      4   ...  8      9     10      11    12\n",
       "0    0.00632  18.0   2.31   0  0.538  ...   1  296.0  15.3  396.90  4.98\n",
       "1    0.02731   0.0   7.07   0  0.469  ...   2  242.0  17.8  396.90  9.14\n",
       "2    0.02729   0.0   7.07   0  0.469  ...   2  242.0  17.8  392.83  4.03\n",
       "3    0.03237   0.0   2.18   0  0.458  ...   3  222.0  18.7  394.63  2.94\n",
       "4    0.06905   0.0   2.18   0  0.458  ...   3  222.0  18.7  396.90  5.33\n",
       "..       ...   ...    ...  ..    ...  ...  ..    ...   ...     ...   ...\n",
       "501  0.06263   0.0  11.93   0  0.573  ...   1  273.0  21.0  391.99  9.67\n",
       "502  0.04527   0.0  11.93   0  0.573  ...   1  273.0  21.0  396.90  9.08\n",
       "503  0.06076   0.0  11.93   0  0.573  ...   1  273.0  21.0  396.90  5.64\n",
       "504  0.10959   0.0  11.93   0  0.573  ...   1  273.0  21.0  393.45  6.48\n",
       "505  0.04741   0.0  11.93   0  0.573  ...   1  273.0  21.0  396.90  7.88\n",
       "\n",
       "[506 rows x 13 columns]"
      ]
     },
     "execution_count": 189,
     "metadata": {},
     "output_type": "execute_result"
    }
   ],
   "source": [
    "X = df.iloc[:,:-1]\n",
    "y = df.iloc[:,-1:]\n",
    "X"
   ]
  },
  {
   "cell_type": "code",
   "execution_count": 199,
   "id": "cdbea1d7-413e-4b5d-b607-e890eea74a61",
   "metadata": {},
   "outputs": [],
   "source": [
    "model = Sequential()\n",
    "model.add(Dense(512, activation='relu', input_shape=(X.shape[1],)))\n",
    "model.add(Dense(1, activation='linear'))"
   ]
  },
  {
   "cell_type": "code",
   "execution_count": 200,
   "id": "152dbac8-496a-40cb-b539-e2a95706f432",
   "metadata": {},
   "outputs": [],
   "source": [
    "X_train, X_test, y_train, y_test = train_test_split(X, y, test_size=.3, random_state=0)"
   ]
  },
  {
   "cell_type": "code",
   "execution_count": 204,
   "id": "e8baf911-4c75-48d9-8da8-70f76f96ca59",
   "metadata": {},
   "outputs": [],
   "source": [
    "model.compile(optimizer='adam', loss= tf.keras.losses.mean_squared_error, metrics= tf.keras.metrics.mean_squared_error)"
   ]
  },
  {
   "cell_type": "code",
   "execution_count": 205,
   "id": "caa38e98-659a-4243-a0ac-29a315603c5e",
   "metadata": {
    "scrolled": true,
    "tags": []
   },
   "outputs": [
    {
     "name": "stdout",
     "output_type": "stream",
     "text": [
      "Epoch 1/20\n",
      "9/9 [==============================] - 0s 1ms/step - loss: 103.2941 - mean_squared_error: 103.2941\n",
      "Epoch 2/20\n",
      "9/9 [==============================] - 0s 1ms/step - loss: 52.6982 - mean_squared_error: 52.6982\n",
      "Epoch 3/20\n",
      "9/9 [==============================] - 0s 1ms/step - loss: 35.9036 - mean_squared_error: 35.9036\n",
      "Epoch 4/20\n",
      "9/9 [==============================] - 0s 1ms/step - loss: 32.7439 - mean_squared_error: 32.7439\n",
      "Epoch 5/20\n",
      "9/9 [==============================] - 0s 1ms/step - loss: 32.9919 - mean_squared_error: 32.9919\n",
      "Epoch 6/20\n",
      "9/9 [==============================] - 0s 1ms/step - loss: 36.4170 - mean_squared_error: 36.4170\n",
      "Epoch 7/20\n",
      "9/9 [==============================] - 0s 1ms/step - loss: 37.9169 - mean_squared_error: 37.9169\n",
      "Epoch 8/20\n",
      "9/9 [==============================] - 0s 1000us/step - loss: 33.6258 - mean_squared_error: 33.6258\n",
      "Epoch 9/20\n",
      "9/9 [==============================] - 0s 1ms/step - loss: 30.3355 - mean_squared_error: 30.3355\n",
      "Epoch 10/20\n",
      "9/9 [==============================] - 0s 1ms/step - loss: 31.0345 - mean_squared_error: 31.0345\n",
      "Epoch 11/20\n",
      "9/9 [==============================] - 0s 1ms/step - loss: 31.5319 - mean_squared_error: 31.5319\n",
      "Epoch 12/20\n",
      "9/9 [==============================] - 0s 1ms/step - loss: 33.6008 - mean_squared_error: 33.6008\n",
      "Epoch 13/20\n",
      "9/9 [==============================] - 0s 1ms/step - loss: 30.2285 - mean_squared_error: 30.2285\n",
      "Epoch 14/20\n",
      "9/9 [==============================] - 0s 1ms/step - loss: 30.9014 - mean_squared_error: 30.9014\n",
      "Epoch 15/20\n",
      "9/9 [==============================] - 0s 1ms/step - loss: 30.4761 - mean_squared_error: 30.4761\n",
      "Epoch 16/20\n",
      "9/9 [==============================] - 0s 1ms/step - loss: 30.0955 - mean_squared_error: 30.0955\n",
      "Epoch 17/20\n",
      "9/9 [==============================] - 0s 1ms/step - loss: 32.6579 - mean_squared_error: 32.6579\n",
      "Epoch 18/20\n",
      "9/9 [==============================] - 0s 1ms/step - loss: 32.7649 - mean_squared_error: 32.7649\n",
      "Epoch 19/20\n",
      "9/9 [==============================] - 0s 1ms/step - loss: 29.2046 - mean_squared_error: 29.2046\n",
      "Epoch 20/20\n",
      "9/9 [==============================] - 0s 1ms/step - loss: 27.5120 - mean_squared_error: 27.5120\n"
     ]
    },
    {
     "data": {
      "text/plain": [
       "<keras.callbacks.History at 0x1fb1499daf0>"
      ]
     },
     "execution_count": 205,
     "metadata": {},
     "output_type": "execute_result"
    }
   ],
   "source": [
    "model.fit(X_train, y_train,  epochs=20, batch_size=40)"
   ]
  },
  {
   "cell_type": "code",
   "execution_count": 206,
   "id": "2117fdb0-cc86-4e45-9ec4-dbc96343187c",
   "metadata": {},
   "outputs": [
    {
     "name": "stdout",
     "output_type": "stream",
     "text": [
      "5/5 [==============================] - 0s 1000us/step - loss: 33.8775 - mean_squared_error: 33.8775\n",
      "Test Accuracy: 33.877\n"
     ]
    }
   ],
   "source": [
    "loss, acc = model.evaluate(X_test, y_test)\n",
    "print('Test Accuracy: %.3f' % acc)"
   ]
  },
  {
   "cell_type": "code",
   "execution_count": null,
   "id": "d29fa4a2-b5fa-4174-b2b1-0698e65ee63e",
   "metadata": {},
   "outputs": [],
   "source": []
  }
 ],
 "metadata": {
  "kernelspec": {
   "display_name": "Python 3 (ipykernel)",
   "language": "python",
   "name": "python3"
  },
  "language_info": {
   "codemirror_mode": {
    "name": "ipython",
    "version": 3
   },
   "file_extension": ".py",
   "mimetype": "text/x-python",
   "name": "python",
   "nbconvert_exporter": "python",
   "pygments_lexer": "ipython3",
   "version": "3.9.7"
  }
 },
 "nbformat": 4,
 "nbformat_minor": 5
}
