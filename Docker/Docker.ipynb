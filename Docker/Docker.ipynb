{
 "cells": [
  {
   "cell_type": "markdown",
   "id": "e2b98547-5f9c-4d9d-8dca-5f4bc2e81b8b",
   "metadata": {},
   "source": [
    "## What is docker?\n",
    "\n",
    "it is an platform for building, running and shipping applications\n",
    "\n",
    "### if you are working on software you always face an issue that the program is working in your development machine and not work in the production, mention why this happend ?\n",
    "\n",
    "- one or more file are missing \n",
    "- software version mismatch ( node version for example)\n",
    "\n",
    "where with docker you can package all your project needs in one file to install it as all also if new member joined your software team it will be easy and sample to build his own enviroment \n",
    "\n",
    "- easy to remove application with all its dependanced "
   ]
  },
  {
   "cell_type": "markdown",
   "id": "798b59c9-75f7-4a83-9656-589fbb047232",
   "metadata": {},
   "source": [
    "### Virtual machine vs docker ?\n",
    "\n",
    "- hypervisor => enable you to run muti os in the host os like (VMWare, virtual box, hyper-v)\n",
    "    virtual machine can run application in isolation inside the virtual machine in the same physical machine (independent & enchapsualted)\n",
    "    - each virtual machine need full os \n",
    "    - slow to start \n",
    "    - resource intensive (because each virtual machine takes a slice from the physical resources) this divide add limitation on the number of VMs that you can install in your machine \n",
    "\n",
    "- container \n",
    "    - give us the same level of isolation with more lightweight \n",
    "    - all container share the same OS in the host (it is easier dut to you need only to minitor and control single OS )\n",
    "    - because the OS is already started at the host containers start quickly \n",
    "    - don't need a spacific slice of the resources \n",
    "    "
   ]
  },
  {
   "cell_type": "markdown",
   "id": "a94de4d0-b60d-48ca-89bd-a952b8cfa06a",
   "metadata": {},
   "source": [
    "### Docker Arch !\n",
    "\n",
    "- it has a client <-> server architecture where the client deals with rest APi with the server \n",
    "- server called (docker engine) set in the background and take care of running docker containers \n",
    "- container has muti-process running like any proccess run in the OS \n",
    "- all this containers share the kernal of the host (manage all apps & hardware resources)\n",
    "\n",
    "\n",
    "due to every application running in the machine need to deal with kernal and this kernal must support the operation needed by this app that is why we can't install windows in linux but windows attached linux kernal to enable installing linux over windows\n",
    "\n",
    "\n"
   ]
  },
  {
   "cell_type": "markdown",
   "id": "c15b250d-ebb1-435b-bad4-7e1e672f82a1",
   "metadata": {},
   "source": [
    "### install \n",
    "- windows install it from exe application (docker desktop)\n",
    "\n",
    "### Dockerfile\n",
    " plain text file that contains the instruction to package the application into an image this image contains all needs for this app to run once you have this image you can tell docker to run your image in container \n",
    " "
   ]
  },
  {
   "cell_type": "markdown",
   "id": "0571f1a3-5018-4bcd-a415-a4fc4a2f53ae",
   "metadata": {},
   "source": [
    "## command\n",
    "- `docker version` : print info about docker client and docker engine\n",
    "- `docker image ls` :\n",
    "- `docker pull ubuntu` : \n",
    "- `docker run ubuntu` : \n",
    "- `docker ps` : list of the running container in docker\n",
    "- `docker ps -a` : show all containers and stopped ones also \n",
    "- `docker run -it ubuntu` : run docker in interactive mode then run the local ubuntu version -> you will be in the container itself \n",
    "- `docker start -i processNumber`"
   ]
  },
  {
   "cell_type": "markdown",
   "id": "924bb7be-6cb9-4db9-8da6-a88251270395",
   "metadata": {},
   "source": [
    "### linux command\n",
    "\n",
    "- `echo hello` : print 'hello' in the window\n",
    "- `whoami` : print the current login user \n",
    "- `echo $0`: print the location of the shell program\n",
    "- `history`: show the history of excuated command\n",
    "- `!#` : run command by number at the history refernce\n",
    "- `apt` : advance package tool \n",
    "- `apt install nano` : this command will give an error due to this package is not downloaded so we need to download it then install `ubuntu downloaded with banch of programs`\n",
    "- `apt list`: list all downloaded packages in ubuntu\n",
    "- `apt update`: update the package database \n",
    "- `apt remove nano`: remove package \n",
    "- `directory` : `dev`: devices `etc`: editable text configuration which contains file configuration `root`: home directory of the root user `lib`: for libraries `var`: variable `proc` : running processes \n",
    "- `pwd`: print working directory \n",
    "- `ls` : list the current dirctory's files and inner directory \n",
    "- `ls -1`: list each file in one line \n",
    "- `ls -l`: lone listing \n",
    "- `mv test docker`: move or rename test to docker \n",
    "- `touch hello.txt`: create new file can be like this `touch file1.txt file2.tx file3.txt`\n",
    "- `rm file1.text | rm file*`: remove file of the given pattern \n",
    "- `rm -r test`: used to remove folder where -r refer to recursive \n",
    "- `cat filename`: show the content of the file \n",
    "- `more filename`: show the file content and give you controll to show more \n",
    "- `less filename`: show file content from the end (interactive way)\n",
    "- `tail -n 5 filename`: show # last lines \n",
    "- `cat file1.txt file2.txt > combain.txt`\n",
    "- `grep ` : global regular expresion use to seach for text in file like `grep -i hello file.txt` | `grep -i root \\etc\\passwd` | `grep -i root file*`\n",
    "- `grep -i -r hello .`: search for hello in the current directory recursive \n",
    "- `find | find \\ect`: list all files in the directory \n",
    "- `ls -a `: show all directory content with the hidden files \n",
    "- `find -type f -name \"f*\"`: show all files in which its name start with 'f' letter \n",
    "- `printenv | printenv PATH`: print all the evironment variable in this machine \n",
    "- `echo $PATH`: read the value of variable PATH\n",
    "- `export DB_user=Faten`: add variable in the current terminal session \n",
    "- `cd ~` : the home directory \n",
    "#### to use variable for all sessions in the machine \n",
    "\n",
    "you need to write it in specail file \n",
    "    - `cd ~`\n",
    "    - `ls -a` \n",
    "   ##### .bashrc this file contains all veraible needed when the user startup it loads all variables define in this file (pemenent machine variables)\n",
    "   `echo DB_USER=mosh >> .bashrc`\n",
    "    this file is loaded only one so you need to update the termail when update like this `source banshrc`\n",
    "    "
   ]
  },
  {
   "cell_type": "markdown",
   "id": "06d37581-ef87-4eb9-a6ed-20b054f2eced",
   "metadata": {},
   "source": [
    "###### Deal with user\n",
    "- `useradd -m faten`: add user create home directory for user \n",
    "- `usermod -s /bin/bash faten`: update the shell wd for this user\n",
    "- `userdel faten`: used to delete user \n",
    "- `cat /etc/passwd`: file contains user , `/etc/shadow`: store password in ecrypted format \n",
    "- `adduser pop` : create use with more extera option like new group for the user and the home directory and asked for password more option \n",
    "- `adduser -s -g app faten`: create new user which will be system user and at app group and its name is faten\n",
    "- `addgroup faten && adduser -s -g faten faten`\n",
    "###### Deal with group\n",
    "\n",
    "- `groupadd developers`: use group to manage set of permission to users `stored into \\etc\\group`\n",
    "```each user in linux has one primary group and zero or one secondry group ```\n",
    "- `usermod -G developers jonh`: add user to secondry group called developers \n",
    "\n",
    "\n",
    "###### check user configuration\n",
    "- `cat /cat/passwd | grep john or grep /etc/passwd john` : show the groups of the user mainly the priamry group only \n",
    "- `groups john` : show the groups of john \n",
    "###### file permission \n",
    "- `echo echo hello > deploy.sh`\n",
    "- `chmod [u|g|o][+|-][x|r|w] filename` : with this command you can add or remove permission (read, write, excute) to (group, user, others)\n"
   ]
  },
  {
   "cell_type": "markdown",
   "id": "37cdfdf4-0824-4e11-abf3-939cf77cab91",
   "metadata": {},
   "source": [
    "### docker command \n",
    "- `docker exec -it # bash`: open one of the running processes in interactive mode \n",
    "- `docker exec -it -u faten # bash`: open one of the running processes in interactive mode with user Faten"
   ]
  },
  {
   "cell_type": "markdown",
   "id": "433919a9-c570-4176-8478-a3e64a092dda",
   "metadata": {},
   "source": [
    "### image and container \n",
    "#### image\n",
    "   it contains everything application needs (a cut-down os|third party libs|Application files|environment variables)\n",
    "   \n",
    "#### container \n",
    "    is like a virtual machine where it provide isolated environment  \n",
    "    can stop and restart containers  \n",
    "    techniqually it just an os process \n",
    "    it is espcial process because it run on image  \n",
    "#### Dockerfile\n",
    "    contains the instructions for building an images  \n",
    "  `FROM` used to spcefiy the base image which contains banch of files and directories  \n",
    "    `WORKDIR` specify the working directories  \n",
    "    `COPY & ADD` for copy and add files  \n",
    "    `run` to run commands  \n",
    "    `ENV` for setting eviroment variables  \n",
    "    `EXPOSE` to expose app bort \n",
    "    `USER` to specify the user should run this application \n",
    "    `CMD & ENTRYPOINT` define the command that should be excuted when we start the image\n",
    "#### How can you ignore some files from your images?\n",
    "    use file called `.dockerignore` and put whatevery you need here "
   ]
  },
  {
   "cell_type": "markdown",
   "id": "f74e628e-9580-4b06-b31b-a879be9088ef",
   "metadata": {},
   "source": [
    "```\n",
    "FROM node:14.16.0-alpine3.13\n",
    "RUN addgroup app && adduser -S -G app app\n",
    "USER app\n",
    "WORKDIR /app\n",
    "COPY package*.json .\n",
    "RUN npm install\n",
    "COPY . . \n",
    "ENV API_URL=http://api.myapp.com/\n",
    "EXPOSE 3000\n",
    "CMD [\"npm\", \"start\"]\n",
    "```\n",
    "\n",
    "### to run this use \n",
    "   `docker build -t my-app .`\n",
    "### to run the container use \n",
    "   `docker run -it my-app sh` --> this will open new shell for you \n",
    "   `docker run my-app npm-start` --> run the image and run a program to follow up the excuation\n",
    "### short notice \n",
    "   - users \n",
    "        by defualt applications run in the docker with the defualt user that is `root` and for security reason it is not the best thing to do this you can create new user \n",
    "        with limited perivlidge \n",
    "   - what is the differnce between run & cmd ?\n",
    "      - run is a build time instructions \n",
    "      - cmd run time instructions which excute\n",
    "   - what is the differnce between CMD npm start & CDM ['npm', 'start']?\n",
    "      - `CMD npm start`: shell form, this run in new shell form \n",
    "      - `CDM ['npm', 'start']`: Exec form it will help you to release resources faster when you stop container \n",
    "   - image layers \n",
    "      - each instruction which update the file system will create new layer if you need to check them you can write `docker history my-app`\n",
    "   "
   ]
  },
  {
   "cell_type": "markdown",
   "id": "c90c64f5-92f0-4f05-9f62-e7a460daba26",
   "metadata": {},
   "source": [
    "## To do \n",
    "\n",
    "- install python and remove it from ubuntu version\n",
    "- create bench of files and folders and try to remove all \n",
    "- find all python files in this image and write it in file `find \\ -type f -name \"*.py\" > python.txt`\n"
   ]
  },
  {
   "cell_type": "markdown",
   "id": "61430900-f0f6-4e10-84bd-feb974fa8cf9",
   "metadata": {},
   "source": [
    "### After 42 video \n",
    "#### what is docker layers \n",
    "   every instruction can be excuted in layer so you have layers like snapshot  \n",
    "   `docker history my-app`: display the image layers  \n",
    "   - docker has an optimization structure if the instructure doesn't change so it will used the cached one \n",
    "   - if one instructure is changed all the commnig instructure will be excuated again  \n",
    "   - you need to order your instructions form the ones that is stable instructions to changeing instructions \n",
    "#### removing images \n",
    " - `docker images`\n",
    " - `docker image prune`: remove all dangling images \n",
    " - `docker container prune`: remove all sleap containers \n",
    " - `docker image rm ['first 3 # from ID', image name if more than one spreate it with space]`"
   ]
  }
 ],
 "metadata": {
  "kernelspec": {
   "display_name": "Python 3 (ipykernel)",
   "language": "python",
   "name": "python3"
  },
  "language_info": {
   "codemirror_mode": {
    "name": "ipython",
    "version": 3
   },
   "file_extension": ".py",
   "mimetype": "text/x-python",
   "name": "python",
   "nbconvert_exporter": "python",
   "pygments_lexer": "ipython3",
   "version": "3.9.7"
  }
 },
 "nbformat": 4,
 "nbformat_minor": 5
}
