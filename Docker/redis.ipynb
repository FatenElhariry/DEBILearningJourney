{
 "cells": [
  {
   "cell_type": "markdown",
   "id": "cfe624c6-c653-4b01-9517-3af3488b955e",
   "metadata": {},
   "source": [
    "`wget http://download.redis.io/redis-stable.tar.gz`  \n",
    "`tar xvzf redis-stable.tar.gz`  \n",
    "`cd redis-stable`  \n",
    "`make`\n",
    "- `redis-server` is the Redis Server itself.\n",
    "- `redis-sentinel` is the Redis Sentinel executable (monitoring and failover).\n",
    "- `redis-cli` is the command line interface utility to talk with Redis.\n",
    "- `redis-benchmark` is used to check Redis performances.\n",
    "- `redis-check-aof` and `redis-check-rdb` (redis-check-dump in 3.0 and below) are useful in the rare event of corrupted data files."
   ]
  },
  {
   "cell_type": "code",
   "execution_count": null,
   "id": "2138ace7-882d-46ff-8087-24db4f5f6ca6",
   "metadata": {},
   "outputs": [],
   "source": []
  }
 ],
 "metadata": {
  "kernelspec": {
   "display_name": "Python 3 (ipykernel)",
   "language": "python",
   "name": "python3"
  },
  "language_info": {
   "codemirror_mode": {
    "name": "ipython",
    "version": 3
   },
   "file_extension": ".py",
   "mimetype": "text/x-python",
   "name": "python",
   "nbconvert_exporter": "python",
   "pygments_lexer": "ipython3",
   "version": "3.9.7"
  }
 },
 "nbformat": 4,
 "nbformat_minor": 5
}
